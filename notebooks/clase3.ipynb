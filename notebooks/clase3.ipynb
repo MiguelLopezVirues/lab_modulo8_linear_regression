{
 "cells": [
  {
   "cell_type": "code",
   "execution_count": 1,
   "metadata": {},
   "outputs": [],
   "source": [
    "# Tratamiento de datos\n",
    "# -----------------------------------------------------------------------\n",
    "import pandas as pd\n",
    "import numpy as np\n",
    "\n",
    "# Visualizaciones\n",
    "# -----------------------------------------------------------------------\n",
    "import seaborn as sns\n",
    "import matplotlib.pyplot as plt\n",
    "from sklearn import tree\n",
    "\n",
    "# Para realizar la regresión lineal y la evaluación del modelo\n",
    "# -----------------------------------------------------------------------\n",
    "from sklearn.linear_model import LinearRegression\n",
    "from sklearn.tree import DecisionTreeRegressor, plot_tree\n",
    "from sklearn.ensemble import RandomForestRegressor\n",
    "from sklearn.ensemble import GradientBoostingRegressor\n",
    "from sklearn.model_selection import train_test_split,GridSearchCV\n",
    "from sklearn.metrics import r2_score, mean_squared_error, mean_absolute_error\n",
    "\n",
    "\n",
    "from sklearn.model_selection import KFold,LeaveOneOut, cross_val_score\n",
    "\n",
    "\n",
    "from sklearn.preprocessing import StandardScaler\n",
    "\n",
    "from tqdm import tqdm\n",
    "\n",
    "\n",
    "# Ignorar los warnings\n",
    "# -----------------------------------------------------------------------\n",
    "import warnings\n",
    "warnings.filterwarnings('ignore')"
   ]
  },
  {
   "cell_type": "code",
   "execution_count": 32,
   "metadata": {},
   "outputs": [],
   "source": [
    "df = pd.read_csv(\"../datos/online_shoppers_intention_clase_nonulls_estan_sinout_encoding.csv\", index_col=0)"
   ]
  },
  {
   "cell_type": "code",
   "execution_count": 8,
   "metadata": {},
   "outputs": [],
   "source": [
    "X = df.drop(columns=\"PageValues\")\n",
    "y = df[\"PageValues\"]\n",
    "\n",
    "X_train, X_test, y_train, y_test = train_test_split(X, y, shuffle=True, random_state=42)"
   ]
  },
  {
   "cell_type": "code",
   "execution_count": null,
   "metadata": {},
   "outputs": [],
   "source": [
    "# Definimos un espacio de parámetros para optimizar\n",
    "params_rf = {\n",
    "    'n_estimators': [50, 100, 150],\n",
    "    'max_depth': [3, 4, 5],\n",
    "    'min_samples_split': [2, 5, 10],\n",
    "    'min_samples_leaf': [1, 2, 4], \n",
    "    'max_leaf_nodes': [4, 6, 8, 10, 20, 30]\n",
    "}"
   ]
  },
  {
   "cell_type": "code",
   "execution_count": null,
   "metadata": {},
   "outputs": [],
   "source": [
    "rf = RandomForestRegressor(random_state=42, bootstrap=True)\n",
    "\n",
    "grid_search_rf = GridSearchCV(rf,\n",
    "                              params_rf,\n",
    "                              cv=3,\n",
    "                              scoring=\"neg_mean_squared_error\",\n",
    "                              n_jobs=-1)\n",
    "\n",
    "grid_search_rf.fit(X_train, y_train)\n",
    "best_params= grid_search_rf.best_params_\n",
    "best_params"
   ]
  },
  {
   "cell_type": "code",
   "execution_count": 15,
   "metadata": {},
   "outputs": [],
   "source": [
    "modelo_final_rf = grid_search_rf.best_estimator_"
   ]
  },
  {
   "cell_type": "code",
   "execution_count": 17,
   "metadata": {},
   "outputs": [],
   "source": [
    "modelo_final_rf.fit(X_train, y_train)\n",
    "\n",
    "y_train_pred = modelo_final_rf.predict(X_train)\n",
    "y_test_pred = modelo_final_rf.predict(X_test)"
   ]
  },
  {
   "cell_type": "code",
   "execution_count": 29,
   "metadata": {},
   "outputs": [],
   "source": [
    "# Step 1: Compute the mean of y_true\n",
    "y_mean_train = np.mean(y_train)\n",
    "\n",
    "# Step 2: Use the mean as the prediction for all instances\n",
    "y_mean_pred_train = np.full_like(y_train, y_mean_train)\n",
    "\n",
    "# Step 1: Compute the mean of y_true\n",
    "y_mean_test = np.mean(y_test)\n",
    "\n",
    "# Step 2: Use the mean as the prediction for all instances\n",
    "y_mean_pred_test = np.full_like(y_test, y_mean_test)"
   ]
  },
  {
   "cell_type": "code",
   "execution_count": 30,
   "metadata": {},
   "outputs": [
    {
     "data": {
      "text/html": [
       "<div>\n",
       "<style scoped>\n",
       "    .dataframe tbody tr th:only-of-type {\n",
       "        vertical-align: middle;\n",
       "    }\n",
       "\n",
       "    .dataframe tbody tr th {\n",
       "        vertical-align: top;\n",
       "    }\n",
       "\n",
       "    .dataframe thead th {\n",
       "        text-align: right;\n",
       "    }\n",
       "</style>\n",
       "<table border=\"1\" class=\"dataframe\">\n",
       "  <thead>\n",
       "    <tr style=\"text-align: right;\">\n",
       "      <th></th>\n",
       "      <th>r2_score</th>\n",
       "      <th>MAE</th>\n",
       "      <th>MSE</th>\n",
       "      <th>RMSE</th>\n",
       "      <th>RMSE_mean</th>\n",
       "    </tr>\n",
       "  </thead>\n",
       "  <tbody>\n",
       "    <tr>\n",
       "      <th>train</th>\n",
       "      <td>0.218712</td>\n",
       "      <td>6.877425</td>\n",
       "      <td>213.711228</td>\n",
       "      <td>14.618865</td>\n",
       "      <td>16.538953</td>\n",
       "    </tr>\n",
       "    <tr>\n",
       "      <th>test</th>\n",
       "      <td>0.092151</td>\n",
       "      <td>7.079813</td>\n",
       "      <td>233.272395</td>\n",
       "      <td>15.273258</td>\n",
       "      <td>16.029680</td>\n",
       "    </tr>\n",
       "  </tbody>\n",
       "</table>\n",
       "</div>"
      ],
      "text/plain": [
       "       r2_score       MAE         MSE       RMSE  RMSE_mean\n",
       "train  0.218712  6.877425  213.711228  14.618865  16.538953\n",
       "test   0.092151  7.079813  233.272395  15.273258  16.029680"
      ]
     },
     "execution_count": 30,
     "metadata": {},
     "output_type": "execute_result"
    }
   ],
   "source": [
    "metricas = {\n",
    "    'train': {\n",
    "        'r2_score': r2_score(y_train, y_train_pred),\n",
    "        'MAE': mean_absolute_error(y_train, y_train_pred),\n",
    "        'MSE': mean_squared_error(y_train, y_train_pred),\n",
    "        'RMSE': np.sqrt(mean_squared_error(y_train, y_train_pred)),\n",
    "        'RMSE_mean': np.sqrt(mean_squared_error(y_train, y_mean_pred_train))\n",
    "    },\n",
    "    'test': {\n",
    "        'r2_score': r2_score(y_test, y_test_pred),\n",
    "        'MAE': mean_absolute_error(y_test, y_test_pred),\n",
    "        'MSE': mean_squared_error(y_test, y_test_pred),\n",
    "        'RMSE': np.sqrt(mean_squared_error(y_test, y_test_pred)),\n",
    "        'RMSE_mean': np.sqrt(mean_squared_error(y_test, y_mean_pred_test))\n",
    "\n",
    "    }\n",
    "}\n",
    "pd.DataFrame(metricas).T"
   ]
  },
  {
   "cell_type": "markdown",
   "metadata": {},
   "source": [
    "Probar dropeando 2 features"
   ]
  },
  {
   "cell_type": "code",
   "execution_count": 33,
   "metadata": {},
   "outputs": [],
   "source": [
    "X = df.drop(columns=[\"PageValues\",\"InformationalDuration\",\"Informational\"])\n",
    "y = df[\"PageValues\"]\n",
    "\n",
    "X_train, X_test, y_train, y_test = train_test_split(X, y, shuffle=True, random_state=42)"
   ]
  },
  {
   "cell_type": "code",
   "execution_count": 34,
   "metadata": {},
   "outputs": [],
   "source": [
    "# Definimos un espacio de parámetros para optimizar\n",
    "params_rf_v2 = {\n",
    "    'n_estimators': [90, 100, 110],\n",
    "    'max_depth': [4,5,6,7],\n",
    "    'max_features': [2,4,5,6,8,10,13],\n",
    "    'min_samples_split': [2, 5, 10],\n",
    "    'min_samples_leaf': [5,7,4], \n",
    "    'max_leaf_nodes': [4, 6, 8, 10, 20, 30]\n",
    "}"
   ]
  },
  {
   "cell_type": "code",
   "execution_count": null,
   "metadata": {},
   "outputs": [
    {
     "name": "stdout",
     "output_type": "stream",
     "text": [
      "Fitting 3 folds for each of 4536 candidates, totalling 13608 fits\n"
     ]
    },
    {
     "ename": "NameError",
     "evalue": "name 'best_params' is not defined",
     "output_type": "error",
     "traceback": [
      "\u001b[1;31m---------------------------------------------------------------------------\u001b[0m",
      "\u001b[1;31mNameError\u001b[0m                                 Traceback (most recent call last)",
      "Cell \u001b[1;32mIn[35], line 12\u001b[0m\n\u001b[0;32m     10\u001b[0m grid_search_rf_v2\u001b[38;5;241m.\u001b[39mfit(X_train, y_train)\n\u001b[0;32m     11\u001b[0m best_params_v2\u001b[38;5;241m=\u001b[39m grid_search_rf_v2\u001b[38;5;241m.\u001b[39mbest_params_\n\u001b[1;32m---> 12\u001b[0m \u001b[43mbest_params\u001b[49m\n",
      "\u001b[1;31mNameError\u001b[0m: name 'best_params' is not defined"
     ]
    }
   ],
   "source": [
    "rf = RandomForestRegressor(random_state=42, bootstrap=True)\n",
    "\n",
    "grid_search_rf_v2 = GridSearchCV(rf,\n",
    "                              params_rf_v2,\n",
    "                              cv=3,\n",
    "                              scoring=\"neg_mean_squared_error\",\n",
    "                              n_jobs=-1,\n",
    "                              verbose=1)\n",
    "\n",
    "grid_search_rf_v2.fit(X_train, y_train)\n",
    "best_params_v2= grid_search_rf_v2.best_params_\n"
   ]
  },
  {
   "cell_type": "code",
   "execution_count": 36,
   "metadata": {},
   "outputs": [
    {
     "data": {
      "text/plain": [
       "{'max_depth': 7,\n",
       " 'max_features': 5,\n",
       " 'max_leaf_nodes': 30,\n",
       " 'min_samples_leaf': 4,\n",
       " 'min_samples_split': 2,\n",
       " 'n_estimators': 110}"
      ]
     },
     "execution_count": 36,
     "metadata": {},
     "output_type": "execute_result"
    }
   ],
   "source": [
    "best_params_v2"
   ]
  },
  {
   "cell_type": "code",
   "execution_count": 37,
   "metadata": {},
   "outputs": [],
   "source": [
    "modelo_final_rf_v2 = grid_search_rf_v2.best_estimator_"
   ]
  },
  {
   "cell_type": "code",
   "execution_count": 42,
   "metadata": {},
   "outputs": [],
   "source": [
    "modelo_final_rf_v2.fit(X_train, y_train)\n",
    "\n",
    "y_train_pred = modelo_final_rf_v2.predict(X_train)\n",
    "y_test_pred = modelo_final_rf_v2.predict(X_test)"
   ]
  },
  {
   "cell_type": "code",
   "execution_count": 43,
   "metadata": {},
   "outputs": [],
   "source": [
    "# Step 1: Compute the mean of y_true\n",
    "y_mean_train = np.mean(y_train)\n",
    "\n",
    "# Step 2: Use the mean as the prediction for all instances\n",
    "y_mean_pred_train = np.full_like(y_train, y_mean_train)\n",
    "\n",
    "# Step 1: Compute the mean of y_true\n",
    "y_mean_test = np.mean(y_test)\n",
    "\n",
    "# Step 2: Use the mean as the prediction for all instances\n",
    "y_mean_pred_test = np.full_like(y_test, y_mean_test)"
   ]
  },
  {
   "cell_type": "code",
   "execution_count": 47,
   "metadata": {},
   "outputs": [
    {
     "data": {
      "text/html": [
       "<div>\n",
       "<style scoped>\n",
       "    .dataframe tbody tr th:only-of-type {\n",
       "        vertical-align: middle;\n",
       "    }\n",
       "\n",
       "    .dataframe tbody tr th {\n",
       "        vertical-align: top;\n",
       "    }\n",
       "\n",
       "    .dataframe thead th {\n",
       "        text-align: right;\n",
       "    }\n",
       "</style>\n",
       "<table border=\"1\" class=\"dataframe\">\n",
       "  <thead>\n",
       "    <tr style=\"text-align: right;\">\n",
       "      <th></th>\n",
       "      <th>r2_score</th>\n",
       "      <th>MAE</th>\n",
       "      <th>MSE</th>\n",
       "      <th>MSE_mean</th>\n",
       "      <th>RMSE</th>\n",
       "    </tr>\n",
       "  </thead>\n",
       "  <tbody>\n",
       "    <tr>\n",
       "      <th>train</th>\n",
       "      <td>0.222850</td>\n",
       "      <td>6.867287</td>\n",
       "      <td>212.579183</td>\n",
       "      <td>273.536960</td>\n",
       "      <td>14.580095</td>\n",
       "    </tr>\n",
       "    <tr>\n",
       "      <th>test</th>\n",
       "      <td>0.100369</td>\n",
       "      <td>7.097086</td>\n",
       "      <td>231.160815</td>\n",
       "      <td>256.950651</td>\n",
       "      <td>15.203974</td>\n",
       "    </tr>\n",
       "  </tbody>\n",
       "</table>\n",
       "</div>"
      ],
      "text/plain": [
       "       r2_score       MAE         MSE    MSE_mean       RMSE\n",
       "train  0.222850  6.867287  212.579183  273.536960  14.580095\n",
       "test   0.100369  7.097086  231.160815  256.950651  15.203974"
      ]
     },
     "execution_count": 47,
     "metadata": {},
     "output_type": "execute_result"
    }
   ],
   "source": [
    "metricas = {\n",
    "    'train': {\n",
    "        'r2_score': r2_score(y_train, y_train_pred),\n",
    "        'MAE': mean_absolute_error(y_train, y_train_pred),\n",
    "        'MSE': mean_squared_error(y_train, y_train_pred),\n",
    "        'MSE_mean': mean_squared_error(y_train, y_mean_pred_train),\n",
    "        'RMSE': np.sqrt(mean_squared_error(y_train, y_train_pred))\n",
    "    },\n",
    "    'test': {\n",
    "        'r2_score': r2_score(y_test, y_test_pred),\n",
    "        'MAE': mean_absolute_error(y_test, y_test_pred),\n",
    "        'MSE': mean_squared_error(y_test, y_test_pred),\n",
    "        'MSE_mean': mean_squared_error(y_test, y_mean_pred_test),\n",
    "        'RMSE': np.sqrt(mean_squared_error(y_test, y_test_pred))\n",
    "\n",
    "    }\n",
    "}\n",
    "pd.DataFrame(metricas).T"
   ]
  },
  {
   "cell_type": "code",
   "execution_count": null,
   "metadata": {},
   "outputs": [],
   "source": []
  }
 ],
 "metadata": {
  "kernelspec": {
   "display_name": "Semana_8_-_Regresión_Lineal-HDmWz6Zr",
   "language": "python",
   "name": "python3"
  },
  "language_info": {
   "codemirror_mode": {
    "name": "ipython",
    "version": 3
   },
   "file_extension": ".py",
   "mimetype": "text/x-python",
   "name": "python",
   "nbconvert_exporter": "python",
   "pygments_lexer": "ipython3",
   "version": "3.11.4"
  }
 },
 "nbformat": 4,
 "nbformat_minor": 2
}
